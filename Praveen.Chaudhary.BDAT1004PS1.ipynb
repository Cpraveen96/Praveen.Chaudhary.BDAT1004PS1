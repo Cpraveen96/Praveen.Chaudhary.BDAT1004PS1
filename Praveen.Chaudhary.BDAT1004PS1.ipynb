{
 "cells": [
  {
   "cell_type": "markdown",
   "metadata": {
    "tags": []
   },
   "source": [
    "##  Answer 1).  \n",
    "**Here's the data types for each of the given expressions:**"
   ]
  },
  {
   "cell_type": "markdown",
   "metadata": {},
   "source": [
    ".5 -> **Integer Data Type**\n",
    "\n",
    "5.0 -> **Float Data Type**\n",
    "\n",
    "5 > 1 -> **Boolean Data Type (Result: True)**\n",
    "\n",
    "'5' -> **String Data Type**\n",
    "\n",
    "5 * 2 -> **Integer Data Type (Result: 10)**\n",
    "\n",
    "'5' * 2 -> **String Data Type (Result: 55)**\n",
    "\n",
    "'5' + '2' -> **String Data Type (Result: 52)**\n",
    "\n",
    "5 / 2 -> **Float Data Type (Result: 2.5)**\n",
    "\n",
    "5 % 2 -> **Integer Data Type (Result: 1)**\n",
    "\n",
    "{5, 2, 1} -> **Set (Contains unique elements: 5, 2, 1)**\n",
    "\n",
    "5 == 3  -> **Boolean Data Type (Result: False)**\n",
    "\n",
    "Pi (the number)  ->  **Pi is a constant representing the ratio of the circumference of a circle to its diameter and is typically represented as a floating-point number.**"
   ]
  },
  {
   "cell_type": "markdown",
   "metadata": {},
   "source": []
  },
  {
   "cell_type": "markdown",
   "metadata": {},
   "source": []
  },
  {
   "cell_type": "markdown",
   "metadata": {},
   "source": [
    "##  Answer 2).   Here are the Python expressions to answer the given questions:\n",
    "\n",
    "**a. To find the number of letters in the string 'Supercalifragilisticexpialidocious':**"
   ]
  },
  {
   "cell_type": "code",
   "execution_count": 29,
   "metadata": {},
   "outputs": [
    {
     "name": "stdout",
     "output_type": "stream",
     "text": [
      "Number of letters: 34\n"
     ]
    }
   ],
   "source": [
    "word = 'Supercalifragilisticexpialidocious'\n",
    "num_letters = len(word)\n",
    "print(\"Number of letters:\", num_letters)"
   ]
  },
  {
   "cell_type": "markdown",
   "metadata": {},
   "source": [
    "**b. To check if 'Supercalifragilisticexpialidocious' contains 'ice' as a substring:**"
   ]
  },
  {
   "cell_type": "code",
   "execution_count": 30,
   "metadata": {},
   "outputs": [
    {
     "name": "stdout",
     "output_type": "stream",
     "text": [
      "Contains 'ice' as a substring: True\n"
     ]
    }
   ],
   "source": [
    "word = 'Supercalifragilisticexpialidocious'\n",
    "substring = 'ice'\n",
    "contains_substring = substring in word\n",
    "print(\"Contains 'ice' as a substring:\", contains_substring)"
   ]
  },
  {
   "cell_type": "markdown",
   "metadata": {},
   "source": [
    "**c. To find the longest word among the given ones:**"
   ]
  },
  {
   "cell_type": "code",
   "execution_count": 31,
   "metadata": {},
   "outputs": [
    {
     "name": "stdout",
     "output_type": "stream",
     "text": [
      "Longest word: Supercalifragilisticexpialidocious\n"
     ]
    }
   ],
   "source": [
    "words = ['Supercalifragilisticexpialidocious', 'Honorificabilitudinitatibus', 'Bababadalgharaghtakamminarronnkonn']\n",
    "longest_word = max(words, key=len)\n",
    "print(\"Longest word:\", longest_word)\n"
   ]
  },
  {
   "cell_type": "markdown",
   "metadata": {},
   "source": [
    "**d. To find the first and last composer in the dictionary order:**"
   ]
  },
  {
   "cell_type": "code",
   "execution_count": 32,
   "metadata": {},
   "outputs": [
    {
     "name": "stdout",
     "output_type": "stream",
     "text": [
      "First composer in the dictionary: Bartok\n",
      "Last composer in the dictionary: Buxtehude\n"
     ]
    }
   ],
   "source": [
    "composers = ['Berlioz', 'Borodin', 'Brian', 'Bartok', 'Bellini', 'Buxtehude', 'Bernstein']\n",
    "first_composer = min(composers)\n",
    "last_composer = max(composers)\n",
    "print(\"First composer in the dictionary:\", first_composer)\n",
    "print(\"Last composer in the dictionary:\", last_composer)"
   ]
  },
  {
   "cell_type": "markdown",
   "metadata": {},
   "source": []
  },
  {
   "cell_type": "markdown",
   "metadata": {},
   "source": []
  },
  {
   "cell_type": "markdown",
   "metadata": {},
   "source": [
    "## Answer 3). \n",
    "**To implement the triangleArea function according to Heron's formula, you can follow this approach:**\n",
    "\n"
   ]
  },
  {
   "cell_type": "code",
   "execution_count": 33,
   "metadata": {},
   "outputs": [
    {
     "name": "stdout",
     "output_type": "stream",
     "text": [
      "1.7320508075688772\n"
     ]
    }
   ],
   "source": [
    "def triangleArea(a, b, c):\n",
    "    # Calculate the semi-perimeter\n",
    "    s = (a + b + c) / 2\n",
    "    # Calculate the area using Heron's formula\n",
    "    area = (s * (s - a) * (s - b) * (s - c)) ** 0.5\n",
    "    return area\n",
    "\n",
    "# Test the function\n",
    "print(triangleArea(2, 2, 2))"
   ]
  },
  {
   "cell_type": "markdown",
   "metadata": {},
   "source": []
  },
  {
   "cell_type": "markdown",
   "metadata": {},
   "source": []
  },
  {
   "cell_type": "markdown",
   "metadata": {},
   "source": [
    "## Answer 4). \n",
    "**You can achieve this by iterating through the input array and separating even and odd numbers into separate lists. Here's how you can do it:**"
   ]
  },
  {
   "cell_type": "code",
   "execution_count": 34,
   "metadata": {},
   "outputs": [],
   "source": [
    "def separate_odd_even(input_array):\n",
    "    even_elements = []\n",
    "    odd_elements = []\n",
    "    for num in input_array:\n",
    "        if num % 2 == 0:\n",
    "            even_elements.append(num)\n",
    "        else:\n",
    "            odd_elements.append(num)\n",
    "    return even_elements, odd_elements\n"
   ]
  },
  {
   "cell_type": "markdown",
   "metadata": {},
   "source": [
    "**# Test data**"
   ]
  },
  {
   "cell_type": "code",
   "execution_count": 35,
   "metadata": {},
   "outputs": [],
   "source": [
    "num_elements = int(input(\"Input the number of elements to be stored in the array: \"))\n",
    "input_array = []\n",
    "for i in range(num_elements):\n",
    "    element = int(input(f\"element - {i} : \"))\n",
    "    input_array.append(element)"
   ]
  },
  {
   "cell_type": "markdown",
   "metadata": {},
   "source": [
    "**# Separate even and odd numbers**"
   ]
  },
  {
   "cell_type": "code",
   "execution_count": 36,
   "metadata": {},
   "outputs": [],
   "source": [
    "even_elements, odd_elements = separate_odd_even(input_array)"
   ]
  },
  {
   "cell_type": "markdown",
   "metadata": {},
   "source": [
    "**# Display the results**"
   ]
  },
  {
   "cell_type": "code",
   "execution_count": 37,
   "metadata": {},
   "outputs": [
    {
     "name": "stdout",
     "output_type": "stream",
     "text": [
      "The Even elements are:\n",
      "42 32\n",
      "The Odd elements are :\n",
      "25 47 565\n"
     ]
    }
   ],
   "source": [
    "print(\"The Even elements are:\")\n",
    "print(*even_elements)\n",
    "print(\"The Odd elements are :\")\n",
    "print(*odd_elements)"
   ]
  },
  {
   "cell_type": "markdown",
   "metadata": {},
   "source": []
  },
  {
   "cell_type": "markdown",
   "metadata": {},
   "source": []
  },
  {
   "cell_type": "markdown",
   "metadata": {},
   "source": [
    "## Answer 5).  \n",
    "**To achieve this, you can implement the inside function as described and then use it to check if a point lies inside a rectangle. Here's the implementation:**"
   ]
  },
  {
   "cell_type": "code",
   "execution_count": 38,
   "metadata": {},
   "outputs": [
    {
     "name": "stdout",
     "output_type": "stream",
     "text": [
      "True\n",
      "False\n"
     ]
    }
   ],
   "source": [
    "def inside(x, y, x1, y1, x2, y2):\n",
    "    return x1 <= x <= x2 and y1 <= y <= y2\n",
    "\n",
    "# Test the function\n",
    "print(inside(1, 1, 0, 0, 2, 3))  # True\n",
    "print(inside(-1, -1, 0, 0, 2, 3)) # False"
   ]
  },
  {
   "cell_type": "markdown",
   "metadata": {},
   "source": [
    "**For part b, you can use the inside function to test whether the point (1,1) lies inside both of the given rectangles:**"
   ]
  },
  {
   "cell_type": "markdown",
   "metadata": {},
   "source": [
    " Test whether (1,1) lies in both rectangles"
   ]
  },
  {
   "cell_type": "code",
   "execution_count": 39,
   "metadata": {},
   "outputs": [],
   "source": [
    "result_rect1 = inside(1, 1, 0.3, 0.5, 1.1, 0.7)\n",
    "result_rect2 = inside(1, 1, 0.5, 0.2, 1.1, 2)"
   ]
  },
  {
   "cell_type": "markdown",
   "metadata": {},
   "source": [
    "Output the results"
   ]
  },
  {
   "cell_type": "code",
   "execution_count": 40,
   "metadata": {},
   "outputs": [
    {
     "name": "stdout",
     "output_type": "stream",
     "text": [
      "Does (1,1) lie in the first rectangle? False\n",
      "Does (1,1) lie in the second rectangle? True\n"
     ]
    }
   ],
   "source": [
    "print(\"Does (1,1) lie in the first rectangle?\", result_rect1)\n",
    "print(\"Does (1,1) lie in the second rectangle?\", result_rect2)"
   ]
  },
  {
   "cell_type": "markdown",
   "metadata": {},
   "source": []
  },
  {
   "cell_type": "markdown",
   "metadata": {},
   "source": []
  },
  {
   "cell_type": "markdown",
   "metadata": {},
   "source": [
    "## Answer 6). \n",
    "**You can implement the pig function to convert a word into pig-Latin according to the given rules. Here's how you can do it:**"
   ]
  },
  {
   "cell_type": "code",
   "execution_count": 41,
   "metadata": {},
   "outputs": [
    {
     "name": "stdout",
     "output_type": "stream",
     "text": [
      "appyhay\n",
      "enterway\n"
     ]
    }
   ],
   "source": [
    "def pig(word):\n",
    "    # Convert the word to lowercase to handle uppercase characters\n",
    "    word = word.lower()\n",
    "    \n",
    "    # Check if the word starts with a vowel\n",
    "    vowels = ['a', 'e', 'i', 'o', 'u']\n",
    "    if word[0] in vowels:\n",
    "        return word + 'way'\n",
    "    else:\n",
    "        return word[1:] + word[0] + 'ay'\n",
    "\n",
    "# Test the function\n",
    "print(pig('happy'))  # Output: 'appyhay'\n",
    "print(pig('Enter'))  # Output: 'enterway'"
   ]
  },
  {
   "cell_type": "markdown",
   "metadata": {},
   "source": []
  },
  {
   "cell_type": "markdown",
   "metadata": {},
   "source": []
  },
  {
   "cell_type": "markdown",
   "metadata": {},
   "source": [
    "## Answer 7).   \n",
    "**You can implement the bldcount function to read the file and count the occurrences of each blood type. Here's how you can do it:**"
   ]
  },
  {
   "cell_type": "code",
   "execution_count": 42,
   "metadata": {},
   "outputs": [
    {
     "name": "stdout",
     "output_type": "stream",
     "text": [
      "There are 15 patients of blood type A.\n",
      "There is one patient of blood type B.\n",
      "There are 13 patients of blood type AB.\n",
      "There are 15 patients of blood type O.\n",
      "There are no patients of blood type OO.\n"
     ]
    }
   ],
   "source": [
    "def bldcount(filename):\n",
    "    # Initialize a dictionary to count the occurrences of each blood type\n",
    "    blood_count = {'A': 0, 'B': 0, 'AB': 0, 'O': 0, 'OO': 0}\n",
    "    \n",
    "    # Open the file and read each line\n",
    "    with open(filename, 'r') as file:\n",
    "        for line in file:\n",
    "            # Remove leading/trailing whitespace and split the line into words\n",
    "            words = line.strip().split()\n",
    "            # Iterate over words and count blood types\n",
    "            for blood_type in words:\n",
    "                if blood_type in blood_count:\n",
    "                    blood_count[blood_type] += 1\n",
    "    \n",
    "    # Print the count for each blood type\n",
    "    for blood_type, count in blood_count.items():\n",
    "        if count == 1:\n",
    "            print(f\"There is one patient of blood type {blood_type}.\")\n",
    "        elif count > 1:\n",
    "            print(f\"There are {count} patients of blood type {blood_type}.\")\n",
    "        else:\n",
    "            print(f\"There are no patients of blood type {blood_type}.\")\n",
    "\n",
    "# Test the function\n",
    "bldcount('bloodtype.txt')"
   ]
  },
  {
   "cell_type": "markdown",
   "metadata": {},
   "source": []
  },
  {
   "cell_type": "markdown",
   "metadata": {},
   "source": []
  },
  {
   "cell_type": "markdown",
   "metadata": {},
   "source": [
    "## Answer 8).  \n",
    "**You can implement the curconv function to read the currency conversion rates from the file currencies.txt and perform the conversion based on the provided currency and amount. Here's how you can do it:**"
   ]
  },
  {
   "cell_type": "code",
   "execution_count": 43,
   "metadata": {},
   "outputs": [],
   "source": [
    "def curconv(currency, amount):\n",
    "    # Initialize a dictionary to store currency conversion rates\n",
    "    currency_rates = {}\n",
    "    \n",
    "    # Open the file and read each line\n",
    "    with open('currencies.txt', 'r') as file:\n",
    "        for line in file:\n",
    "            # Split each line into currency code, conversion rate, and currency name\n",
    "            code, rate, *name = line.strip().split()\n",
    "            # Store the conversion rate in the dictionary\n",
    "            currency_rates[code] = float(rate)\n",
    "    \n",
    "    # Convert the amount to USD based on the provided currency\n",
    "    if currency in currency_rates:\n",
    "        usd_amount = amount * currency_rates[currency]\n",
    "        return usd_amount\n",
    "    else:\n",
    "        return \"Currency not found in the conversion rates file.\"\n"
   ]
  },
  {
   "cell_type": "markdown",
   "metadata": {},
   "source": [
    "**# Test the function**"
   ]
  },
  {
   "cell_type": "code",
   "execution_count": 44,
   "metadata": {},
   "outputs": [
    {
     "name": "stdout",
     "output_type": "stream",
     "text": [
      "122.96544\n",
      "1.241401\n"
     ]
    }
   ],
   "source": [
    "print(curconv('EUR', 100))  # Output: 122.96544\n",
    "print(curconv('JPY', 100))  # Output: 1.241401"
   ]
  },
  {
   "cell_type": "markdown",
   "metadata": {},
   "source": []
  },
  {
   "cell_type": "markdown",
   "metadata": {},
   "source": []
  },
  {
   "cell_type": "markdown",
   "metadata": {},
   "source": [
    "## Answer 9).\n",
    "**Here are the types of exceptions that each scenario would cause:**\n",
    "\n",
    "**a.) Trying to add incompatible variables, as in adding 6 + 'a':**\n",
    "\n",
    "-> This would cause a **TypeError** because you can't perform arithmetic addition between an integer and a string.\n",
    "\n",
    "**b.) Referring to the 12th item of a list that has only 10 items:**\n",
    "\n",
    " -> This would cause an **IndexError** because you're trying to access an index that is out of range for the list.\n",
    "\n",
    "**c.) Using a value that is out of range for a function’s input, such as calling math.sqrt(-1.0):**\n",
    "\n",
    " -> This would cause a **ValueError** because you can't take the square root of a negative number with the math.sqrt function.\n",
    "\n",
    "**d.) Using an undeclared variable, such as print(x) when x has not been defined:**\n",
    "\n",
    " -> This would cause a **NameError** because the variable x has not been defined or declared.\n",
    "\n",
    "**e.) Trying to open a file that does not exist, such as mistyping the file name or looking in the wrong directory:**\n",
    "\n",
    " -> This would cause a **FileNotFoundError** because the file you are trying to open does not exist in the specified directory."
   ]
  },
  {
   "cell_type": "markdown",
   "metadata": {},
   "source": []
  },
  {
   "cell_type": "markdown",
   "metadata": {},
   "source": []
  },
  {
   "cell_type": "markdown",
   "metadata": {},
   "source": [
    "## Answer 10).  \n",
    "**Here's the implementation of the frequencies function:**\n"
   ]
  },
  {
   "cell_type": "code",
   "execution_count": 45,
   "metadata": {},
   "outputs": [],
   "source": [
    "def frequencies(text):\n",
    "    # Define the letters string\n",
    "    letters = 'abcdefghijklmnopqrstuvwxyz'\n",
    "    \n",
    "    # Initialize a list to store the frequencies of each character\n",
    "    frequency_list = [0] * 26\n",
    "    \n",
    "    # Convert the text to lowercase\n",
    "    text = text.lower()\n",
    "    \n",
    "    # Iterate over each character in the text\n",
    "    for char in text:\n",
    "        # Check if the character is a letter\n",
    "        if char in letters:\n",
    "            # Increment the frequency of the corresponding character\n",
    "            index = letters.index(char)\n",
    "            frequency_list[index] += 1\n",
    "    \n",
    "    return frequency_list\n"
   ]
  },
  {
   "cell_type": "markdown",
   "metadata": {},
   "source": [
    "**# Test the function**"
   ]
  },
  {
   "cell_type": "code",
   "execution_count": 46,
   "metadata": {},
   "outputs": [
    {
     "name": "stdout",
     "output_type": "stream",
     "text": [
      "[1, 1, 1, 3, 5, 1, 1, 2, 1, 0, 1, 0, 1, 2, 4, 0, 1, 2, 0, 3, 1, 0, 1, 1, 0, 0]\n",
      "[1, 0, 0, 0, 1, 0, 0, 0, 0, 0, 0, 1, 0, 0, 0, 2, 0, 0, 0, 0, 0, 0, 0, 0, 0, 0]\n"
     ]
    }
   ],
   "source": [
    "print(frequencies('The quick red fox got bored and went home.'))\n",
    "print(frequencies('apple'))"
   ]
  }
 ],
 "metadata": {
  "kernelspec": {
   "display_name": "Python 3",
   "language": "python",
   "name": "python3"
  },
  "language_info": {
   "codemirror_mode": {
    "name": "ipython",
    "version": 3
   },
   "file_extension": ".py",
   "mimetype": "text/x-python",
   "name": "python",
   "nbconvert_exporter": "python",
   "pygments_lexer": "ipython3",
   "version": "3.11.8"
  }
 },
 "nbformat": 4,
 "nbformat_minor": 2
}
